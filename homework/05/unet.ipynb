{
 "cells": [
  {
   "cell_type": "code",
   "execution_count": 7,
   "metadata": {
    "collapsed": true,
    "pycharm": {
     "name": "#%%\n"
    }
   },
   "outputs": [],
   "source": [
    "import segmentation_models as sm\n",
    "import tensorflow as tf\n",
    "import glob\n",
    "import cv2\n",
    "import numpy as np\n",
    "import matplotlib.pyplot as plt\n",
    "\n",
    "sm.set_framework('tf.keras')\n",
    "sm.framework()\n",
    "\n",
    "BACKBONE = 'resnet34'\n",
    "preprocess_input = sm.get_preprocessing(BACKBONE)\n",
    "\n",
    "# # load your data\n",
    "# x_train, y_train, x_val, y_val = tf.keras.datasets.cifar10.load_data()\n",
    "#\n",
    "# # preprocess input\n",
    "# x_train = preprocess_input(x_train)\n",
    "# x_val = preprocess_input(x_val)\n",
    "\n",
    "# define model\n",
    "#model = sm.Unet(BACKBONE, encoder_weights='imagenet', input_shape=(504, 504, 3), classes=1, activation='sigmoid')\n",
    "model = sm.Unet(BACKBONE, encoder_weights=None,input_shape=(None, None, 3), classes=1, activation='sigmoid')\n",
    "model.compile(\n",
    "    'Adam',\n",
    "    loss=sm.losses.bce_jaccard_loss,\n",
    "    metrics=[sm.metrics.iou_score],\n",
    ")"
   ]
  },
  {
   "cell_type": "code",
   "execution_count": 8,
   "outputs": [
    {
     "name": "stdout",
     "output_type": "stream",
     "text": [
      "(1004, 160, 128, 3)\n"
     ]
    }
   ],
   "source": [
    "from tensorflow.keras.utils import  load_img,img_to_array\n",
    "data = []\n",
    "label = []\n",
    "image_size = (160  ,128)\n",
    "for i in glob.glob('dataset/photos/*.jpg', recursive=True):\n",
    "    data.append(img_to_array(load_img(i,target_size=image_size)).astype('uint8')/255.0)\n",
    "for i in glob.glob('dataset/annotationsImages/*.jpg', recursive=True):\n",
    "    label.append(img_to_array(load_img(i,target_size=image_size,color_mode = 'grayscale')).astype('uint8'))\n",
    "\n",
    "data = np.stack(data)\n",
    "label = np.stack(label)\n",
    "\n",
    "print(data.shape)"
   ],
   "metadata": {
    "collapsed": false,
    "pycharm": {
     "name": "#%%\n"
    }
   }
  },
  {
   "cell_type": "code",
   "execution_count": 9,
   "outputs": [
    {
     "name": "stdout",
     "output_type": "stream",
     "text": [
      "Epoch 1/200\n"
     ]
    },
    {
     "ename": "TypeError",
     "evalue": "in user code:\n\n    File \"C:\\Users\\choug\\anaconda3\\envs\\tensorflow\\lib\\site-packages\\keras\\engine\\training.py\", line 878, in train_function  *\n        return step_function(self, iterator)\n    File \"C:\\Users\\choug\\anaconda3\\envs\\tensorflow\\lib\\site-packages\\segmentation_models\\base\\objects.py\", line 114, in __call__  *\n        return self.l1(gt, pr) + self.l2(gt, pr)\n    File \"C:\\Users\\choug\\anaconda3\\envs\\tensorflow\\lib\\site-packages\\segmentation_models\\losses.py\", line 130, in __call__  *\n        return F.binary_crossentropy(gt, pr, **self.submodules)\n    File \"C:\\Users\\choug\\anaconda3\\envs\\tensorflow\\lib\\site-packages\\segmentation_models\\base\\functional.py\", line 256, in binary_crossentropy  *\n        return backend.mean(backend.binary_crossentropy(gt, pr))\n    File \"C:\\Users\\choug\\anaconda3\\envs\\tensorflow\\lib\\site-packages\\keras\\backend.py\", line 5158, in binary_crossentropy\n        return tf.nn.sigmoid_cross_entropy_with_logits(labels=target, logits=output)\n\n    TypeError: Input 'y' of 'Mul' Op has type uint8 that does not match type float32 of argument 'x'.\n",
     "output_type": "error",
     "traceback": [
      "\u001B[1;31m---------------------------------------------------------------------------\u001B[0m",
      "\u001B[1;31mTypeError\u001B[0m                                 Traceback (most recent call last)",
      "Input \u001B[1;32mIn [9]\u001B[0m, in \u001B[0;36m<cell line: 1>\u001B[1;34m()\u001B[0m\n\u001B[1;32m----> 1\u001B[0m \u001B[43mmodel\u001B[49m\u001B[38;5;241;43m.\u001B[39;49m\u001B[43mfit\u001B[49m\u001B[43m(\u001B[49m\u001B[43mdata\u001B[49m\u001B[43m,\u001B[49m\u001B[43m \u001B[49m\u001B[43mlabel\u001B[49m\u001B[43m,\u001B[49m\u001B[43m \u001B[49m\u001B[43mepochs\u001B[49m\u001B[38;5;241;43m=\u001B[39;49m\u001B[38;5;241;43m200\u001B[39;49m\u001B[43m)\u001B[49m\n",
      "File \u001B[1;32m~\\anaconda3\\envs\\tensorflow\\lib\\site-packages\\keras\\utils\\traceback_utils.py:67\u001B[0m, in \u001B[0;36mfilter_traceback.<locals>.error_handler\u001B[1;34m(*args, **kwargs)\u001B[0m\n\u001B[0;32m     65\u001B[0m \u001B[38;5;28;01mexcept\u001B[39;00m \u001B[38;5;167;01mException\u001B[39;00m \u001B[38;5;28;01mas\u001B[39;00m e:  \u001B[38;5;66;03m# pylint: disable=broad-except\u001B[39;00m\n\u001B[0;32m     66\u001B[0m   filtered_tb \u001B[38;5;241m=\u001B[39m _process_traceback_frames(e\u001B[38;5;241m.\u001B[39m__traceback__)\n\u001B[1;32m---> 67\u001B[0m   \u001B[38;5;28;01mraise\u001B[39;00m e\u001B[38;5;241m.\u001B[39mwith_traceback(filtered_tb) \u001B[38;5;28;01mfrom\u001B[39;00m \u001B[38;5;28mNone\u001B[39m\n\u001B[0;32m     68\u001B[0m \u001B[38;5;28;01mfinally\u001B[39;00m:\n\u001B[0;32m     69\u001B[0m   \u001B[38;5;28;01mdel\u001B[39;00m filtered_tb\n",
      "File \u001B[1;32m~\\anaconda3\\envs\\tensorflow\\lib\\site-packages\\tensorflow\\python\\framework\\func_graph.py:1129\u001B[0m, in \u001B[0;36mfunc_graph_from_py_func.<locals>.autograph_handler\u001B[1;34m(*args, **kwargs)\u001B[0m\n\u001B[0;32m   1127\u001B[0m \u001B[38;5;28;01mexcept\u001B[39;00m \u001B[38;5;167;01mException\u001B[39;00m \u001B[38;5;28;01mas\u001B[39;00m e:  \u001B[38;5;66;03m# pylint:disable=broad-except\u001B[39;00m\n\u001B[0;32m   1128\u001B[0m   \u001B[38;5;28;01mif\u001B[39;00m \u001B[38;5;28mhasattr\u001B[39m(e, \u001B[38;5;124m\"\u001B[39m\u001B[38;5;124mag_error_metadata\u001B[39m\u001B[38;5;124m\"\u001B[39m):\n\u001B[1;32m-> 1129\u001B[0m     \u001B[38;5;28;01mraise\u001B[39;00m e\u001B[38;5;241m.\u001B[39mag_error_metadata\u001B[38;5;241m.\u001B[39mto_exception(e)\n\u001B[0;32m   1130\u001B[0m   \u001B[38;5;28;01melse\u001B[39;00m:\n\u001B[0;32m   1131\u001B[0m     \u001B[38;5;28;01mraise\u001B[39;00m\n",
      "\u001B[1;31mTypeError\u001B[0m: in user code:\n\n    File \"C:\\Users\\choug\\anaconda3\\envs\\tensorflow\\lib\\site-packages\\keras\\engine\\training.py\", line 878, in train_function  *\n        return step_function(self, iterator)\n    File \"C:\\Users\\choug\\anaconda3\\envs\\tensorflow\\lib\\site-packages\\segmentation_models\\base\\objects.py\", line 114, in __call__  *\n        return self.l1(gt, pr) + self.l2(gt, pr)\n    File \"C:\\Users\\choug\\anaconda3\\envs\\tensorflow\\lib\\site-packages\\segmentation_models\\losses.py\", line 130, in __call__  *\n        return F.binary_crossentropy(gt, pr, **self.submodules)\n    File \"C:\\Users\\choug\\anaconda3\\envs\\tensorflow\\lib\\site-packages\\segmentation_models\\base\\functional.py\", line 256, in binary_crossentropy  *\n        return backend.mean(backend.binary_crossentropy(gt, pr))\n    File \"C:\\Users\\choug\\anaconda3\\envs\\tensorflow\\lib\\site-packages\\keras\\backend.py\", line 5158, in binary_crossentropy\n        return tf.nn.sigmoid_cross_entropy_with_logits(labels=target, logits=output)\n\n    TypeError: Input 'y' of 'Mul' Op has type uint8 that does not match type float32 of argument 'x'.\n"
     ]
    }
   ],
   "source": [
    "model.fit(data, label, epochs=200)"
   ],
   "metadata": {
    "collapsed": false,
    "pycharm": {
     "name": "#%%\n"
    }
   }
  },
  {
   "cell_type": "code",
   "execution_count": null,
   "outputs": [],
   "source": [],
   "metadata": {
    "collapsed": false,
    "pycharm": {
     "name": "#%%\n"
    }
   }
  }
 ],
 "metadata": {
  "kernelspec": {
   "display_name": "Python 3",
   "language": "python",
   "name": "python3"
  },
  "language_info": {
   "codemirror_mode": {
    "name": "ipython",
    "version": 2
   },
   "file_extension": ".py",
   "mimetype": "text/x-python",
   "name": "python",
   "nbconvert_exporter": "python",
   "pygments_lexer": "ipython2",
   "version": "2.7.6"
  }
 },
 "nbformat": 4,
 "nbformat_minor": 0
}