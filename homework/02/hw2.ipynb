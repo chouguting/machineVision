{
 "cells": [
  {
   "cell_type": "markdown",
   "source": [
    "# 使用ChArUco Board做相機校正\n"
   ],
   "metadata": {
    "collapsed": false,
    "pycharm": {
     "name": "#%% md\n"
    }
   }
  },
  {
   "cell_type": "markdown",
   "source": [
    "## 先取得校正要用到的點"
   ],
   "metadata": {
    "collapsed": false,
    "pycharm": {
     "name": "#%% md\n"
    }
   }
  },
  {
   "cell_type": "code",
   "execution_count": 1,
   "outputs": [
    {
     "name": "stdout",
     "output_type": "stream",
     "text": [
      "height 1080.0, width 1920.0\n"
     ]
    }
   ],
   "source": [
    "import cv2\n",
    "import cv2.aruco as aruco\n",
    "\n",
    "cap = cv2.VideoCapture('CharUco_board.mp4') # 取得攝影機\n",
    "#原始畫面有點大，為了有利於顯示這份講義所以縮小。\n",
    "totalFrame   = int(cap.get(cv2.CAP_PROP_FRAME_COUNT))\n",
    "frameWidth   = int(cap.get(cv2.CAP_PROP_FRAME_WIDTH))//2\n",
    "frameHeight  = int(cap.get(cv2.CAP_PROP_FRAME_HEIGHT))//2\n",
    "\n",
    "arucoParams  = aruco.DetectorParameters_create()  # 建立Aruco參數(detectMarker process會用到)\n",
    "arucoParams.cornerRefinementMethod = aruco.CORNER_REFINE_SUBPIX  #用subpixel的方式來收細角點\n",
    "\n",
    "arucoDict    = aruco.Dictionary_get(aruco.DICT_6X6_250)  #我們用的是這個參數產生的ChArUco board\n",
    "\n",
    "# 必須描述ChArUco board的尺寸規格\n",
    "gridX        = 5 # 水平方向5格\n",
    "gridY        = 7 # 垂直方向7格\n",
    "squareSize   = 4 # 每格為4cmX4cm\n",
    "# ArUco marker為2cmX2cm\n",
    "charucoBoard = aruco.CharucoBoard_create(gridX,gridY,squareSize,squareSize/2,arucoDict)  # 建立ChArUco board\n",
    "\n",
    "print('height {}, width {}'.format(cap.get(cv2.CAP_PROP_FRAME_HEIGHT),cap.get(cv2.CAP_PROP_FRAME_WIDTH))) # 取得攝影機的長寬\n",
    "refinedStrategy = True  #\n",
    "criteria        = (cv2.TERM_CRITERIA_EPS + cv2.TERM_CRITERIA_MAX_ITER, 100, 0.00001)\n",
    "frameId        = 0\n",
    "collectCorners = []\n",
    "collectIds     = []\n",
    "collectFrames  = []\n",
    "while True:\n",
    "    ret, frame = cap.read()  # 讀取一幀影像\n",
    "    if not ret:\n",
    "        break\n",
    "\n",
    "    frame = cv2.resize(frame,(frameWidth,frameHeight))  # 縮小畫面\n",
    "    (corners, ids, rejected) = aruco.detectMarkers(frame, arucoDict, parameters=arucoParams)  #偵測Aruco marker的角點位置(每個marker的四個角點), ids是每個marker的id, rejected是有錯或信心不足的marker的corner(也許是不符呵我們設定的DICT_6X6_250)\n",
    "\n",
    "    #corners是17個 4*2的陣列(代表每個marker的四個角點)\n",
    "    #ids是17個 1*1的陣列(代表每個marker的id) 每個marker的id是唯一的\n",
    "    #rejected是多個 4*2的陣列(代表每個rejected的四個角點)\n",
    "\n",
    "    #refinedStrategy代表是否用板子資訊去強化arucro的偵測\n",
    "    #這個一定要在detectMarker之後再做\n",
    "    if refinedStrategy:\n",
    "        corners, ids, _, _ = aruco.refineDetectedMarkers(frame,charucoBoard,corners,ids,rejected)\n",
    "\n",
    "    #每100個frame存一次之後校正要用到的點對應關係\n",
    "    if frameId % 100 == 50 and len(ids)==17: # 17 ArUco markers 如果全部正確被讀到才起來\n",
    "        collectCorners.append(corners)\n",
    "        collectIds.append(ids.ravel())\n",
    "        collectFrames.append(frame)\n",
    "\n",
    "    if len(corners) > 0:\n",
    "        aruco.drawDetectedMarkers(frame, corners, ids)  #把marker的角點畫出來\n",
    "\n",
    "    cv2.imshow('find points for calibration',frame)\n",
    "    if cv2.waitKey(20) != -1:\n",
    "        break\n",
    "\n",
    "    frameId += 1\n",
    "\n",
    "cv2.destroyAllWindows()\n",
    "cap.release()"
   ],
   "metadata": {
    "collapsed": false,
    "pycharm": {
     "name": "#%%\n"
    }
   }
  },
  {
   "cell_type": "markdown",
   "source": [
    "## 開始校正"
   ],
   "metadata": {
    "collapsed": false,
    "pycharm": {
     "name": "#%% md\n"
    }
   }
  },
  {
   "cell_type": "code",
   "execution_count": 2,
   "outputs": [
    {
     "name": "stdout",
     "output_type": "stream",
     "text": [
      "[[913.81070779   0.         479.5586767 ]\n",
      " [  0.         921.0914589  293.00945991]\n",
      " [  0.           0.           1.        ]]\n",
      "[[ 0.06739156]\n",
      " [-0.11176159]\n",
      " [-0.00446193]\n",
      " [-0.00266387]\n",
      " [-0.01974274]]\n"
     ]
    }
   ],
   "source": [
    "import numpy as np\n",
    "caliCorners=np.concatenate([np.array(x).reshape(-1,4,2) for x in collectCorners],axis=0)\n",
    "counter=np.array([len(x) for x in collectIds])\n",
    "caliIds=np.array(collectIds).ravel()\n",
    "cameraMatrixInit = np.array([[ 1000.,    0., frameWidth/2.],[    0., 1000., frameHeight/2.],[    0.,    0.,           1.]])\n",
    "distCoeffsInit   = np.zeros((5,1))\n",
    "ret, aruco_cameraMatrix, aruco_distCoeffs, aruco_rvects, aruco_tvects = aruco.calibrateCameraAruco(caliCorners,caliIds,counter,charucoBoard,(frameWidth,frameHeight),cameraMatrixInit,distCoeffsInit)\n",
    "print(aruco_cameraMatrix)\n",
    "print(aruco_distCoeffs)"
   ],
   "metadata": {
    "collapsed": false,
    "pycharm": {
     "name": "#%%\n"
    }
   }
  },
  {
   "cell_type": "code",
   "execution_count": 3,
   "outputs": [
    {
     "name": "stdout",
     "output_type": "stream",
     "text": [
      "[[888.25457479   0.         482.34262359]\n",
      " [  0.         896.25270996 305.57029901]\n",
      " [  0.           0.           1.        ]]\n",
      "[[ 0.08518861]\n",
      " [-0.41241448]\n",
      " [-0.00235481]\n",
      " [-0.00228344]\n",
      " [ 1.0810133 ]]\n"
     ]
    }
   ],
   "source": [
    "caliCorners=[]\n",
    "caliIds    =[]\n",
    "for corners, ids, frame in zip(collectCorners,collectIds,collectFrames):\n",
    "    ret, charucoCorners, charucoIds = aruco.interpolateCornersCharuco(corners,ids,frame,charucoBoard,aruco_cameraMatrix,aruco_distCoeffs)\n",
    "    caliCorners.append(charucoCorners)\n",
    "    caliIds.append(charucoIds)\n",
    "\n",
    "ret, charuco_cameraMatrix, charuco_distCoeffs, charuco_rvects, charuco_tvects = aruco.calibrateCameraCharuco(caliCorners,caliIds,charucoBoard,(frameWidth,frameHeight), aruco_cameraMatrix,aruco_distCoeffs)\n",
    "print(charuco_cameraMatrix)\n",
    "print(charuco_distCoeffs)"
   ],
   "metadata": {
    "collapsed": false,
    "pycharm": {
     "name": "#%%\n"
    }
   }
  },
  {
   "cell_type": "markdown",
   "source": [
    "# 用校正好的相機找到每個CharUco_board的位置(3D位置)"
   ],
   "metadata": {
    "collapsed": false,
    "pycharm": {
     "name": "#%% md\n"
    }
   }
  },
  {
   "cell_type": "code",
   "execution_count": 4,
   "outputs": [],
   "source": [
    "#原始畫面有點大，為了有利於顯示這份講義所以縮小。\n",
    "cap = cv2.VideoCapture('CharUco_board.mp4')\n",
    "\n",
    "while True:\n",
    "    ret, frame = cap.read()\n",
    "    if not ret:\n",
    "        break\n",
    "\n",
    "    frame = cv2.resize(frame,(frameWidth,frameHeight))\n",
    "    (corners, ids, rejected) = aruco.detectMarkers(frame, arucoDict, parameters=arucoParams)\n",
    "\n",
    "    if ids is not None and len(ids)>0:\n",
    "        aruco.drawDetectedMarkers(frame, corners, ids)\n",
    "        ret, rvect, tvect = aruco.estimatePoseBoard(corners, ids, charucoBoard, charuco_cameraMatrix, charuco_distCoeffs, None, None)\n",
    "        if ret:\n",
    "            aruco.drawAxis(frame, charuco_cameraMatrix, charuco_distCoeffs, rvect, tvect, squareSize)\n",
    "\n",
    "    cv2.imshow('Estimation of the pose of a CharUco board with intrinsic camera parameters',frame)\n",
    "    if cv2.waitKey(20) != -1:\n",
    "        break\n",
    "\n",
    "cv2.destroyAllWindows()\n",
    "cap.release()"
   ],
   "metadata": {
    "collapsed": false,
    "pycharm": {
     "name": "#%%\n"
    }
   }
  },
  {
   "cell_type": "markdown",
   "source": [
    "# 用校正好的相機找到每個Aruco的位置"
   ],
   "metadata": {
    "collapsed": false,
    "pycharm": {
     "name": "#%% md\n"
    }
   }
  },
  {
   "cell_type": "code",
   "execution_count": 6,
   "outputs": [],
   "source": [
    "markerSize  = 6 #6cm\n",
    "cap = cv2.VideoCapture('ArUco_marker.mp4')\n",
    "arucoDict   = aruco.Dictionary_get(aruco.DICT_7X7_50)\n",
    "totalFrame   = int(cap.get(cv2.CAP_PROP_FRAME_COUNT))\n",
    "frameWidth   = int(cap.get(cv2.CAP_PROP_FRAME_WIDTH))//2\n",
    "frameHeight  = int(cap.get(cv2.CAP_PROP_FRAME_HEIGHT))//2\n",
    "\n",
    "hw2_output_video = cv2.VideoWriter('myHW2Video.mp4', cv2.VideoWriter_fourcc(*'XVID'),\n",
    "                                   cap.get(cv2.CAP_PROP_FPS),\n",
    "                                   (frameWidth,frameHeight))  #輸出的影片\n",
    "\n",
    "nggyu_cap = cv2.VideoCapture('nggyu.mp4')\n",
    "hyyyy_cap = cv2.VideoCapture('hyyyy.mp4')\n",
    "esg_cap   = cv2.VideoCapture('esg.mp4')\n",
    "ncat_cap = cv2.VideoCapture('ncat.mp4')\n",
    "game_cap = cv2.VideoCapture('game.mp4')\n",
    "vibe_cap = cv2.VideoCapture('vibe.mp4')\n",
    "\n",
    "has_started = [False for _ in range(6)] #紀錄哪些id開始被偵測到了\n",
    "while True:\n",
    "    ret, frame = cap.read()\n",
    "    _, nggyu_frame = nggyu_cap.read()\n",
    "    _, hyyyy_frame = hyyyy_cap.read()\n",
    "    _, esg_frame = esg_cap.read()\n",
    "    _, ncat_frame = ncat_cap.read()\n",
    "    _, game_frame = game_cap.read()\n",
    "    _, vibe_frame = vibe_cap.read()\n",
    "    if not ret:\n",
    "        break\n",
    "\n",
    "    frame = cv2.resize(frame,(frameWidth,frameHeight))\n",
    "\n",
    "    # #把nggyu影片貼合到一張新影像的左上角\n",
    "    # nggyu_frame_full = np.zeros((frame.shape[0], frame.shape[1], frame.shape[2]),dtype=np.uint8)\n",
    "    # nggyu_frame_full[:360,:480]=nggyu_frame[:360,90:90+480]\n",
    "    #\n",
    "    # #把hyyyy影片貼合到一張新影像的左上角\n",
    "    # hyyyy_frame_full = np.zeros((frame.shape[0], frame.shape[1], frame.shape[2]),dtype=np.uint8)\n",
    "    # hyyyy_frame_full[:360,:480]=hyyyy_frame[:360,:480]\n",
    "\n",
    "    (corners, ids, rejected) = aruco.detectMarkers(frame, arucoDict, parameters=arucoParams)\n",
    "\n",
    "    if len(corners) > 0:\n",
    "        #aruco.drawDetectedMarkers(frame, corners, ids)\n",
    "        rvects, tvects, _ = aruco.estimatePoseSingleMarkers(corners, markerSize, charuco_cameraMatrix, charuco_distCoeffs)\n",
    "        for corner,id in zip(corners,ids):\n",
    "            if id == 1:\n",
    "                mask_image = np.ones_like(vibe_frame)\n",
    "                source_pts = np.array([[640.0,360.0],[0.0,360.0],[0.0,0.0],[640.0,0.0]])\n",
    "                dest_pts = np.array(corner)\n",
    "                M, mask = cv2.findHomography(source_pts,dest_pts, cv2.RANSAC,5.0)\n",
    "                warped = cv2.warpPerspective(vibe_frame, M, (frameWidth, frameHeight), flags=cv2.INTER_CUBIC)\n",
    "                mask_warped = cv2.warpPerspective(mask_image, M, (frameWidth, frameHeight), flags=cv2.  INTER_CUBIC)\n",
    "                frame[np.where(mask_warped>0)] = warped[np.where(mask_warped>0)]\n",
    "            if id == 2:\n",
    "                mask_image = np.ones_like(esg_frame)\n",
    "                source_pts = np.array([[640.0,480.0],[0.0,480.0],[0.0,00.0],[640.0,0.0]])\n",
    "                dest_pts = np.array(corner)\n",
    "                M, mask = cv2.findHomography(source_pts,dest_pts, cv2.RANSAC,5.0)\n",
    "                warped = cv2.warpPerspective(esg_frame, M, (frameWidth, frameHeight), flags=cv2.INTER_CUBIC)\n",
    "                mask_warped = cv2.warpPerspective(mask_image, M, (frameWidth, frameHeight), flags=cv2.  INTER_CUBIC)\n",
    "                frame[np.where(mask_warped>0)] = warped[np.where(mask_warped>0)]\n",
    "            if id == 3:\n",
    "                mask_image = np.ones_like(nggyu_frame)\n",
    "                source_pts = np.array([[470.0+90,360.0],[90.0,360.0],[90.0,0.0],[470.0+90,0.0]])\n",
    "                dest_pts = np.array(corner)\n",
    "                M, mask = cv2.findHomography(source_pts,dest_pts, cv2.RANSAC,5.0)\n",
    "                warped = cv2.warpPerspective(nggyu_frame, M, (frameWidth, frameHeight), flags=cv2.INTER_CUBIC)\n",
    "                mask_warped = cv2.warpPerspective(mask_image, M, (frameWidth, frameHeight), flags=cv2.  INTER_CUBIC)\n",
    "                frame[np.where(mask_warped>0)] = warped[np.where(mask_warped>0)]\n",
    "            if id == 4:\n",
    "                mask_image = np.ones_like(hyyyy_frame)\n",
    "                source_pts = np.array([[480.0,360.0],[0.0,360.0],[0.0,0.0],[480.0,0.0]])\n",
    "                dest_pts = np.array(corner)\n",
    "                M, mask = cv2.findHomography(source_pts,dest_pts, cv2.RANSAC,5.0)\n",
    "                warped = cv2.warpPerspective(hyyyy_frame, M, (frameWidth, frameHeight), flags=cv2.  INTER_CUBIC)\n",
    "                mask_warped = cv2.warpPerspective(mask_image, M, (frameWidth, frameHeight), flags=cv2.  INTER_CUBIC)\n",
    "                frame[np.where(mask_warped>0)] = warped[np.where(mask_warped>0)]\n",
    "            if id == 5:\n",
    "                mask_image = np.ones_like(ncat_frame)\n",
    "                source_pts = np.array([[640.0,480.0],[80.0,480.0],[80.0,0.0],[640.0,0.0]])\n",
    "                dest_pts = np.array(corner)\n",
    "                M, mask = cv2.findHomography(source_pts,dest_pts, cv2.RANSAC,5.0)\n",
    "                warped = cv2.warpPerspective(ncat_frame, M, (frameWidth, frameHeight), flags=cv2.  INTER_CUBIC)\n",
    "                mask_warped = cv2.warpPerspective(mask_image, M, (frameWidth, frameHeight), flags=cv2.  INTER_CUBIC)\n",
    "                frame[np.where(mask_warped>0)] = warped[np.where(mask_warped>0)]\n",
    "            if id == 6:\n",
    "                mask_image = np.ones_like(game_frame)\n",
    "                source_pts = np.array([[754.0,480.0],[100.0,480.0],[100.0,0.0],[754.0,0.0]])\n",
    "                dest_pts = np.array(corner)\n",
    "                M, mask = cv2.findHomography(source_pts,dest_pts, cv2.RANSAC,5.0)\n",
    "                warped = cv2.warpPerspective(game_frame, M, (frameWidth, frameHeight), flags=cv2.  INTER_CUBIC)\n",
    "                mask_warped = cv2.warpPerspective(mask_image, M, (frameWidth, frameHeight), flags=cv2.  INTER_CUBIC)\n",
    "                frame[np.where(mask_warped>0)] = warped[np.where(mask_warped>0)]\n",
    "\n",
    "    #aruco.drawDetectedMarkers(frame, corners, ids)\n",
    "    cv2.imshow('Estimation of the pose of arUco marker with intrinsic camera parameters',frame)\n",
    "    hw2_output_video.write(frame)\n",
    "    if cv2.waitKey(20) != -1:\n",
    "        break\n",
    "\n",
    "cv2.destroyAllWindows()\n",
    "cap.release()\n",
    "hw2_output_video.release()\n",
    "nggyu_cap.release()\n",
    "hyyyy_cap.release()\n",
    "esg_cap.release()\n",
    "ncat_cap.release()\n",
    "game_cap.release()\n",
    "vibe_cap.release()\n"
   ],
   "metadata": {
    "collapsed": false,
    "pycharm": {
     "name": "#%%\n"
    }
   }
  },
  {
   "cell_type": "code",
   "execution_count": 5,
   "outputs": [],
   "source": [],
   "metadata": {
    "collapsed": false,
    "pycharm": {
     "name": "#%%\n"
    }
   }
  },
  {
   "cell_type": "code",
   "execution_count": 5,
   "outputs": [],
   "source": [],
   "metadata": {
    "collapsed": false,
    "pycharm": {
     "name": "#%%\n"
    }
   }
  }
 ],
 "metadata": {
  "kernelspec": {
   "display_name": "Python 3",
   "language": "python",
   "name": "python3"
  },
  "language_info": {
   "codemirror_mode": {
    "name": "ipython",
    "version": 2
   },
   "file_extension": ".py",
   "mimetype": "text/x-python",
   "name": "python",
   "nbconvert_exporter": "python",
   "pygments_lexer": "ipython2",
   "version": "2.7.6"
  }
 },
 "nbformat": 4,
 "nbformat_minor": 0
}