{
 "cells": [
  {
   "cell_type": "code",
   "execution_count": 1,
   "outputs": [],
   "source": [
    "import tensorflow as tf\n",
    "import cv2\n",
    "import numpy as np\n",
    "import matplotlib.pyplot as plt\n",
    "###\n"
   ],
   "metadata": {
    "collapsed": false,
    "pycharm": {
     "name": "#%%\n"
    }
   }
  },
  {
   "cell_type": "code",
   "execution_count": null,
   "outputs": [],
   "source": [
    "class AdaptiveThreshold:\n",
    "    #init是constructor\n",
    "    def __init__(self, blockSize, C):\n",
    "        #1個blockSize*blockSize＊1的KERNEL\n",
    "        self.filters = tf.ones((blockSize, blockSize, 1, 1), dtype=tf.float32) / blockSize ** 2\n",
    "        self.C = tf.constant(C, dtype=tf.float32)\n",
    "\n",
    "    def __call__(self, inputs):\n",
    "        # hint: tf.nn.conv2d, tf.where\n",
    "        mean = tf.nn.conv2d(inputs, self.filters, strides=[1, 1], padding='SAME')\n",
    "        x = tf.where(inputs > (mean - self.C), 1.0, 0.0)\n",
    "\n",
    "        return x  # return the resultant image, where 1 represents above the threshold and 0 represents below the threshold\n"
   ],
   "metadata": {
    "collapsed": false,
    "pycharm": {
     "name": "#%%\n"
    }
   }
  },
  {
   "cell_type": "code",
   "execution_count": null,
   "outputs": [],
   "source": [
    "\n",
    "class Thinning:\n",
    "\n",
    "    def __init__(self):\n",
    "        self.filters1, self.filters2 = self._surface_patterns()\n",
    "\n",
    "    #檢查rule 1的最後一個規則\n",
    "    @staticmethod\n",
    "    def _rule1_final_check(array):\n",
    "        n_135_is_zero = False\n",
    "        n_357_is_zero = False\n",
    "        if array[1] == 0 or array[3] == 0 or array[5] == 0:\n",
    "            n_135_is_zero = True\n",
    "        if array[3] == 0 or array[5] == 0 or array[7] == 0:\n",
    "            n_357_is_zero = True\n",
    "        return n_135_is_zero and n_357_is_zero\n",
    "\n",
    "    #檢查rule 2的最後一個規則\n",
    "    @staticmethod\n",
    "    def _rule2_final_check(array):\n",
    "        n_137_is_zero = False\n",
    "        n_157_is_zero = False\n",
    "        if array[1] == 0 or array[3] == 0 or array[7] == 0:\n",
    "            n_137_is_zero = True\n",
    "        if array[1] == 0 or array[5] == 0 or array[7] == 0:\n",
    "            n_157_is_zero = True\n",
    "        return n_137_is_zero and n_157_is_zero\n",
    "\n",
    "    @staticmethod\n",
    "    def _surface_patterns():\n",
    "\n",
    "        rotation_index = [(0, 0), (0, 1), (0, 2), (1, 2), (2, 2), (2, 1), (2, 0), (1, 0)]\n",
    "\n",
    "        # generate the filters for rules 1 and 2\n",
    "        filters1_list = []\n",
    "        filters2_list = []\n",
    "\n",
    "        for neighbor_one_count in range(2, 7, 1):\n",
    "            neighbor_array = np.ones(neighbor_one_count)\n",
    "            neighbor_array = np.append(neighbor_array, [0.0] * (8 - neighbor_one_count))\n",
    "            #前兩個規則代表了鄰居中的1繞一圈看的話是要相連再一起的\n",
    "            #所以以鄰居有兩個1的為例\n",
    "            #[1 1 0]\n",
    "            #[0 p 0]\n",
    "            #[0 0 0]\n",
    "            #我只需要把這個kernel一格格的旋轉一圈\n",
    "            #只要符合最後一個條件(final_check)就可以作為kernel\n",
    "            #print(\"neighbor_one_count:\", neighbor_one_count)\n",
    "            for rotation in range(8):\n",
    "                #檢查最後一個條件 如果可以 才能作為kernel用\n",
    "                if Thinning._rule1_final_check(neighbor_array):\n",
    "                    full_kernel = np.zeros((3, 3, 1))\n",
    "                    for i in range(8):\n",
    "                        full_kernel[rotation_index[i]] = neighbor_array[i]\n",
    "                    #print(full_kernel)\n",
    "                    full_kernel[1, 1] = 1\n",
    "                    full_kernel = full_kernel * 2.0 - 1  #將kernel轉成-1~1\n",
    "                    filters1_list.append(full_kernel)\n",
    "                neighbor_array = np.roll(neighbor_array, 1)\n",
    "\n",
    "        for neighbor_one_count in range(2, 7, 1):\n",
    "            neighbor_array = np.ones(neighbor_one_count)\n",
    "            neighbor_array = np.append(neighbor_array, [0.0] * (8 - neighbor_one_count))\n",
    "            #前兩個規則代表了鄰居中的1繞一圈看的話是要相連再一起的\n",
    "            #所以以鄰居有兩個1的為例\n",
    "            #[1 1 0]\n",
    "            #[0 p 0]\n",
    "            #[0 0 0]\n",
    "            #我只需要把這個kernel一格格的旋轉一圈\n",
    "            #只要符合最後一個條件(final_check)就可以作為kernel\n",
    "            # print(\"neighbor_one_count:\", neighbor_one_count)\n",
    "            for rotation in range(8):\n",
    "                if Thinning._rule2_final_check(neighbor_array):\n",
    "                    full_kernel = np.zeros((3, 3, 1))\n",
    "                    for i in range(8):\n",
    "                        full_kernel[rotation_index[i]] = neighbor_array[i]\n",
    "                    #print(full_kernel)\n",
    "                    full_kernel[1, 1] = 1\n",
    "                    full_kernel = full_kernel * 2.0 - 1  #將kernel轉成-1~1\n",
    "                    filters2_list.append(full_kernel)\n",
    "                neighbor_array = np.roll(neighbor_array, 1)\n",
    "\n",
    "\n",
    "        filters1 = np.asarray(filters1_list)\n",
    "        filters1 = np.moveaxis(filters1, 0, -1)  #把(34,3,3,1)轉成(3,3,1,34)\n",
    "        filters1 = tf.constant(filters1, dtype=tf.float32)\n",
    "\n",
    "        filters2 = np.asarray(filters2_list)\n",
    "        filters2 = np.moveaxis(filters2, 0, -1)  #把(34,3,3,1)轉成(3,3,1,34)\n",
    "        filters2 = tf.constant(filters2, dtype=tf.float32)\n",
    "        return filters1, filters2  # for rules 1 and 2\n",
    "\n",
    "    def __call__(self, inputs):\n",
    "        #  do thinning\n",
    "        #  padding is required\n",
    "        x = tf.pad(inputs, tf.constant([[0, 0], [1, 1], [1, 1], [0, 0]]), constant_values=-1.0)\n",
    "        while True:\n",
    "            pass_one_has_modified = False  #有沒有點被修改(消去)\n",
    "            pass_two_has_modified = False  #有沒有點被修改(消去)\n",
    "            # add your code for rule 1\n",
    "            pass1_result = tf.nn.conv2d(x, self.filters1, strides=(1, 1), padding='SAME')  #卷積\n",
    "            pass1_result_max = tf.math.reduce_max(pass1_result, axis=-1, keepdims=True)  #取那個點的34個filter結果中最大的\n",
    "            if tf.where(pass1_result_max == 9).shape[0] > 0:\n",
    "                pass_one_has_modified = True  #如果有點被修改(消去)\n",
    "                print(\"nine_count_1:\", tf.where(pass1_result_max == 9).shape[0])\n",
    "            #把該削去的點消掉(filter結果等於9代表是可以被剝掉的部分)\n",
    "            x = tf.where(pass1_result_max == tf.constant(9.0, dtype=tf.float32), tf.constant(-1.0, dtype=tf.float32), x)\n",
    "\n",
    "            # add your code for rule 2\n",
    "            pass2_result = tf.nn.conv2d(x, self.filters2, strides=(1, 1), padding='SAME')  #卷積\n",
    "            pass2_result_max = tf.math.reduce_max(pass2_result, axis=-1, keepdims=True)  #取那個點的34個filter結果中最大的\n",
    "            if tf.where(pass2_result_max == tf.constant(9.0, dtype=tf.float32)).shape[0] > 0:\n",
    "                pass_two_has_modified = True  #如果有點被修改(消去)\n",
    "                print(\"nine_count_2:\", tf.where(pass2_result_max == 9).shape[0])\n",
    "            #把該削去的點消掉(filter結果等於9代表是可以被剝掉的部分)\n",
    "            x = tf.where(pass2_result_max == tf.constant(9.0, dtype=tf.float32), tf.constant(-1.0, dtype=tf.float32), x)\n",
    "\n",
    "            # 如果沒有點被修改(消去)就跳出迴圈\n",
    "            if not pass_one_has_modified and not pass_two_has_modified:\n",
    "                break\n",
    "\n",
    "        outputs = x[:, 1:-1, 1:-1, :]\n",
    "        return outputs"
   ],
   "metadata": {
    "collapsed": false,
    "pycharm": {
     "name": "#%%\n"
    }
   }
  },
  {
   "cell_type": "code",
   "execution_count": null,
   "outputs": [],
   "source": [
    "\n",
    "#下載測試影像\n",
    "url = 'https://evatronix.com/images/en/offer/printed-circuits-board/Evatronix_Printed_Circuits_Board_01_1920x1080.jpg'\n",
    "testimage = tf.keras.utils.get_file('pcb.jpg', url)  #記得改網址的話 檔名也要改掉\n",
    "\n",
    "#讀入測試影像\n",
    "inputs = cv2.imread(testimage)\n",
    "\n",
    "#轉成灰階影像\n",
    "inputs = cv2.cvtColor(inputs, cv2.COLOR_BGR2GRAY)  #轉成灰階\n",
    "\n",
    "#顯示測試影像\n",
    "plt.figure(figsize=(20, 15))\n",
    "plt.imshow(inputs, cmap='gray')\n",
    "plt.axis(False)\n",
    "plt.show()"
   ],
   "metadata": {
    "collapsed": false,
    "pycharm": {
     "name": "#%%\n"
    }
   }
  },
  {
   "cell_type": "code",
   "execution_count": null,
   "outputs": [],
   "source": [
    "\n",
    "#轉換影像表示方式成四軸張量(sample,height,width,channel)，以便使用卷積運算。\n",
    "inputs = tf.convert_to_tensor(inputs, dtype=tf.float32)\n",
    "inputs = inputs[tf.newaxis, :, :, tf.newaxis]  #擴增兩個維度\n",
    "\n",
    "#使用卷積運算製作AdatpiveThresholding\n",
    "#neighbor_size=61, C=-8\n",
    "#用61*61的average filter\n",
    "#AdaptiveThreshold(61,-8)是叫constructor 建構一個物件\n",
    "#AdaptiveThreshold(61,-8)(inputs)是叫AdaptiveThreshold(61,-8)的call函數\n",
    "binary = AdaptiveThreshold(61, -8)(inputs)\n",
    "plt.imshow(tf.squeeze(binary).numpy() * 255, cmap='gray')  #把大於零的部分會被設為255，小於零的部分會被設為0\n",
    "\n",
    "#存下AdaptiveThresholding結果\n",
    "#binary這張圖現去掉大小為1的維度，再把大於零的部分會被設為255，小於零的部分會被設為0\n",
    "outputs = tf.where(tf.squeeze(binary) > 0, tf.constant([[255]], dtype=tf.uint8), tf.constant([[0]], dtype=tf.uint8))\n",
    "cv2.imwrite('pcb_threshold.png', outputs.numpy())  #存下結果\n"
   ],
   "metadata": {
    "collapsed": false,
    "pycharm": {
     "name": "#%%\n"
    }
   }
  },
  {
   "cell_type": "code",
   "execution_count": null,
   "outputs": [],
   "source": [
    "#顯示AdaptiveThresholding結果\n",
    "plt.figure(figsize=(20, 15))\n",
    "plt.imshow(tf.squeeze(binary).numpy() * 255, cmap='gray')  #把大於零的部分會被設為255，小於零的部分會被設為0\n",
    "plt.axis(False)\n",
    "plt.show()"
   ],
   "metadata": {
    "collapsed": false,
    "pycharm": {
     "name": "#%%\n"
    }
   }
  },
  {
   "cell_type": "code",
   "execution_count": null,
   "outputs": [],
   "source": [
    "\n",
    "#使用卷積運算製作Thinning (改成-1代表0,1代表1會比較好算)\n",
    "binary = binary * 2 - 1  #把前景的部分設為1，背景的部分設為-1\n",
    "#用這個方式 只要區域和kernel一模一樣 就會得到9\n",
    "\n",
    "#Thinning()(binary) 建立一個物件 直接呼叫call函數\n",
    "outputs = tf.where(tf.squeeze(Thinning()(binary)) > 0, tf.constant([[255]], dtype=tf.uint8),\n",
    "                   tf.constant([[0]], dtype=tf.uint8))\n",
    "outputs = tf.squeeze(outputs)\n",
    "\n",
    "#存下細線化結果\n",
    "cv2.imwrite('pcb_thinning.png', outputs.numpy())\n",
    "\n",
    "#注意由於螢幕解析度，同學在螢幕上看到的細線化結果可能不是真正結果，此時必須看存下來的結果影像。\n",
    "plt.figure(figsize=(20, 15))\n",
    "plt.imshow(outputs.numpy(), cmap='gray', interpolation='none')  #不要內插\n",
    "plt.axis(False)\n",
    "plt.show()"
   ],
   "metadata": {
    "collapsed": false,
    "pycharm": {
     "name": "#%%\n"
    }
   }
  },
  {
   "cell_type": "code",
   "execution_count": null,
   "outputs": [],
   "source": [],
   "metadata": {
    "collapsed": false,
    "pycharm": {
     "name": "#%%\n"
    }
   }
  },
  {
   "cell_type": "code",
   "execution_count": null,
   "outputs": [],
   "source": [],
   "metadata": {
    "collapsed": false,
    "pycharm": {
     "name": "#%%\n"
    }
   }
  },
  {
   "cell_type": "code",
   "execution_count": null,
   "outputs": [],
   "source": [],
   "metadata": {
    "collapsed": false,
    "pycharm": {
     "name": "#%%\n"
    }
   }
  },
  {
   "cell_type": "code",
   "execution_count": 7,
   "outputs": [],
   "source": [],
   "metadata": {
    "collapsed": false,
    "pycharm": {
     "name": "#%%\n"
    }
   }
  },
  {
   "cell_type": "code",
   "execution_count": 7,
   "outputs": [],
   "source": [],
   "metadata": {
    "collapsed": false,
    "pycharm": {
     "name": "#%%\n"
    }
   }
  },
  {
   "cell_type": "code",
   "execution_count": 7,
   "outputs": [],
   "source": [],
   "metadata": {
    "collapsed": false,
    "pycharm": {
     "name": "#%%\n"
    }
   }
  },
  {
   "cell_type": "code",
   "execution_count": null,
   "outputs": [],
   "source": [
    "plt.imsave()"
   ],
   "metadata": {
    "collapsed": false,
    "pycharm": {
     "name": "#%%\n"
    }
   }
  },
  {
   "cell_type": "code",
   "execution_count": null,
   "outputs": [],
   "source": [],
   "metadata": {
    "collapsed": false,
    "pycharm": {
     "name": "#%%\n"
    }
   }
  },
  {
   "cell_type": "code",
   "execution_count": null,
   "outputs": [],
   "source": [],
   "metadata": {
    "collapsed": false,
    "pycharm": {
     "name": "#%%\n"
    }
   }
  }
 ],
 "metadata": {
  "kernelspec": {
   "display_name": "Python 3",
   "language": "python",
   "name": "python3"
  },
  "language_info": {
   "codemirror_mode": {
    "name": "ipython",
    "version": 2
   },
   "file_extension": ".py",
   "mimetype": "text/x-python",
   "name": "python",
   "nbconvert_exporter": "python",
   "pygments_lexer": "ipython2",
   "version": "2.7.6"
  }
 },
 "nbformat": 4,
 "nbformat_minor": 0
}