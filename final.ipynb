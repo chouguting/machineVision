{
 "cells": [
  {
   "cell_type": "code",
   "execution_count": 13,
   "outputs": [
    {
     "name": "stdout",
     "output_type": "stream",
     "text": [
      "Model: \"model_12\"\n",
      "_________________________________________________________________\n",
      " Layer (type)                Output Shape              Param #   \n",
      "=================================================================\n",
      " input_13 (InputLayer)       [(None, 10, 50, 3)]       0         \n",
      "                                                                 \n",
      " conv2d_12 (Conv2D)          (None, 4, 50, 17)         1088      \n",
      "                                                                 \n",
      "=================================================================\n",
      "Total params: 1,088\n",
      "Trainable params: 1,088\n",
      "Non-trainable params: 0\n",
      "_________________________________________________________________\n"
     ]
    }
   ],
   "source": [
    "import tensorflow as tf\n",
    "from tensorflow.keras import  layers\n",
    "from tensorflow.keras import Model\n",
    "from tensorflow.keras import Input\n",
    "\n",
    "inputs = Input(shape=(10,50,3))\n",
    "x = layers.Conv2D(filters=17,kernel_size=(3,7),strides=(3,1),dilation_rate=(1,1),padding='same')(inputs)\n",
    "\n",
    "model = Model(inputs,x)\n",
    "model.summary()\n",
    "\n"
   ],
   "metadata": {
    "collapsed": false,
    "pycharm": {
     "name": "#%%\n"
    }
   }
  },
  {
   "cell_type": "code",
   "execution_count": null,
   "outputs": [],
   "source": [],
   "metadata": {
    "collapsed": false,
    "pycharm": {
     "name": "#%%\n"
    }
   }
  }
 ],
 "metadata": {
  "kernelspec": {
   "display_name": "Python 3",
   "language": "python",
   "name": "python3"
  },
  "language_info": {
   "codemirror_mode": {
    "name": "ipython",
    "version": 2
   },
   "file_extension": ".py",
   "mimetype": "text/x-python",
   "name": "python",
   "nbconvert_exporter": "python",
   "pygments_lexer": "ipython2",
   "version": "2.7.6"
  }
 },
 "nbformat": 4,
 "nbformat_minor": 0
}